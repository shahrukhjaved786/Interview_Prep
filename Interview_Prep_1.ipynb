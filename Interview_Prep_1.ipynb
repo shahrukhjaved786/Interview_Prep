{
 "cells": [
  {
   "cell_type": "code",
   "execution_count": 3,
   "id": "5935cd01",
   "metadata": {},
   "outputs": [],
   "source": [
    "# Count of vowels and consonants\n",
    "# taking input from the user\n",
    "\n",
    "def vowel_consonent_count():    \n",
    "    vowels_count = 0\n",
    "    consonent_count = 0\n",
    "    vowels = 'aeiou'\n",
    "#     vowels = [\"a\",'e','i','o','u']\n",
    "    \n",
    "    user_string = input('Pls enter a string:')\n",
    "    for value in user_string:\n",
    "        if value.lower() in vowels:\n",
    "            vowels_count += 1\n",
    "        elif value.lower() not in vowels:\n",
    "            consonent_count += 1\n",
    "        else:\n",
    "            pass\n",
    "    \n",
    "    print(f'Vowels:{vowels_count} and Consonent Count: {consonent_count}')\n",
    "    #return 'Vowels Count:', vowels_count, 'Consoent:',consonent_count\n",
    "\n"
   ]
  },
  {
   "cell_type": "code",
   "execution_count": 4,
   "id": "6138a0cf",
   "metadata": {},
   "outputs": [
    {
     "name": "stdout",
     "output_type": "stream",
     "text": [
      "Pls enter a string:paypal animAL great day\n",
      "Vowels:8 and Consonent Count: 15\n"
     ]
    }
   ],
   "source": [
    "vowel_consonent_count()"
   ]
  },
  {
   "cell_type": "code",
   "execution_count": 8,
   "id": "ca33a3b4",
   "metadata": {},
   "outputs": [],
   "source": [
    "# count occurrence of word in list\n",
    "\n",
    "mylist_weekdays = ['sun','mon','tue','sun','wed','thu','fri','sun','sun','mon','mon']\n",
    "\n",
    "\n",
    "def count_word_occurrence():\n",
    "    count = 0\n",
    "    for value in mylist_weekdays:\n",
    "        if value == 'sun':\n",
    "            count += 1\n",
    "        \n",
    "    return count\n",
    "        "
   ]
  },
  {
   "cell_type": "code",
   "execution_count": 9,
   "id": "10936ac0",
   "metadata": {},
   "outputs": [
    {
     "data": {
      "text/plain": [
       "4"
      ]
     },
     "execution_count": 9,
     "metadata": {},
     "output_type": "execute_result"
    }
   ],
   "source": [
    "count_word_occurrence()"
   ]
  },
  {
   "cell_type": "code",
   "execution_count": 12,
   "id": "7b4986c3",
   "metadata": {},
   "outputs": [
    {
     "name": "stdout",
     "output_type": "stream",
     "text": [
      "4\n"
     ]
    }
   ],
   "source": [
    "# count occurrence of word in list\n",
    "\n",
    "mylist_weekdays = ['sun','mon','tue','sun','wed','thu','fri','sun','sun','mon','mon']\n",
    "\n",
    "\n",
    "print(mylist_weekdays.count('sun')) #using .count method provided by a list "
   ]
  },
  {
   "cell_type": "code",
   "execution_count": null,
   "id": "9fd68fbd",
   "metadata": {},
   "outputs": [],
   "source": []
  },
  {
   "cell_type": "code",
   "execution_count": 32,
   "id": "7f370afa",
   "metadata": {},
   "outputs": [],
   "source": [
    "# Sort characters of string in sorted order\n",
    "\n",
    "def sorted_char():\n",
    "    user_input = input('Pls enter a string: ')\n",
    "    \n",
    "    user_input = list(user_input)\n",
    "    user_input.sort()\n",
    "    \n",
    "    print(f'Ascending Sort: {user_input}\\n')\n",
    "    user_input.reverse()\n",
    "    print(f'Descending Sort {user_input}')"
   ]
  },
  {
   "cell_type": "code",
   "execution_count": 33,
   "id": "f1929d9d",
   "metadata": {},
   "outputs": [
    {
     "name": "stdout",
     "output_type": "stream",
     "text": [
      "Pls enter a string: 123456789\n",
      "Ascending Sort: ['1', '2', '3', '4', '5', '6', '7', '8', '9']\n",
      "\n",
      "Descending Sort ['9', '8', '7', '6', '5', '4', '3', '2', '1']\n"
     ]
    }
   ],
   "source": [
    "sorted_char()"
   ]
  },
  {
   "cell_type": "code",
   "execution_count": 45,
   "id": "6d1309a0",
   "metadata": {},
   "outputs": [
    {
     "name": "stdout",
     "output_type": "stream",
     "text": [
      "pyl\n",
      "PayL\n"
     ]
    }
   ],
   "source": [
    "# Remove a character from a string\n",
    "\n",
    "str1 = 'payal'\n",
    "print(str1.replace(\"a\",\"\")) #replace both a\n",
    "\n",
    "\n",
    "#Payl      # replace only second last index a\n",
    "str1 = \"PayAL\"\n",
    "str1 = list(str1)\n",
    "str1[-2] = \"\"\n",
    "print(\"\".join(str1))\n",
    "\n"
   ]
  },
  {
   "cell_type": "code",
   "execution_count": 47,
   "id": "27593243",
   "metadata": {},
   "outputs": [
    {
     "name": "stdout",
     "output_type": "stream",
     "text": [
      "Pls enter string-1: tteewt\n",
      "Pls enter string-2: erte\n",
      "Mismatached characters\n"
     ]
    }
   ],
   "source": [
    "#Function to check Anagram words containing same letters and characters or not\n",
    "\n",
    "def angram_check(str1,str2):\n",
    "    if sorted(str1.lower()) == sorted(str2.lower()):\n",
    "        return True\n",
    "    else:\n",
    "        return False\n",
    "    \n",
    "\n",
    "\n",
    "user_input1 = input('Pls enter string-1: ')\n",
    "user_input2 = input('Pls enter string-2: ')\n",
    "\n",
    "if angram_check(user_input1,user_input2):\n",
    "    print('Strings contains same characters')\n",
    "else:\n",
    "    print('Mismatached characters')\n",
    "\n"
   ]
  },
  {
   "cell_type": "code",
   "execution_count": 52,
   "id": "de95a1c9",
   "metadata": {},
   "outputs": [
    {
     "name": "stdout",
     "output_type": "stream",
     "text": [
      "123456789\n"
     ]
    }
   ],
   "source": [
    "#Reversing a number\n",
    "\n",
    "input1 = '987654321'\n",
    "print(int(input1[::-1]))\n"
   ]
  },
  {
   "cell_type": "code",
   "execution_count": 53,
   "id": "b67c2c43",
   "metadata": {},
   "outputs": [
    {
     "data": {
      "text/plain": [
       "1"
      ]
     },
     "execution_count": 53,
     "metadata": {},
     "output_type": "execute_result"
    }
   ],
   "source": [
    "#Write a python code to print the follwing pattern.\n",
    "7777777\n",
    "666666\n",
    "55555\n",
    "4444\n",
    "333\n",
    "22\n",
    "1\n"
   ]
  },
  {
   "cell_type": "code",
   "execution_count": 4,
   "id": "6edee4c0",
   "metadata": {},
   "outputs": [
    {
     "name": "stdout",
     "output_type": "stream",
     "text": [
      "7777777\n",
      "666666\n",
      "55555\n",
      "4444\n",
      "333\n",
      "22\n",
      "1\n"
     ]
    }
   ],
   "source": [
    "pat_value = 7\n",
    "\n",
    "while pat_value != 0:\n",
    "    print(str(pat_value)*pat_value)\n",
    "    pat_value = pat_value - 1"
   ]
  },
  {
   "cell_type": "code",
   "execution_count": null,
   "id": "9ef4dc09",
   "metadata": {},
   "outputs": [],
   "source": []
  },
  {
   "cell_type": "code",
   "execution_count": 73,
   "id": "f5956411",
   "metadata": {},
   "outputs": [
    {
     "name": "stdout",
     "output_type": "stream",
     "text": [
      "Printing the items based on its appearance\n",
      "{'a': 4, 's': 9, 'd': 8, 'f': 1, 'g': 15} \n",
      "\n",
      "\n",
      "Printing the items by sorting keys\n",
      "[('a', 4), ('d', 8), ('f', 1), ('g', 15), ('s', 9)] \n",
      "\n",
      "\n",
      "Printing the items by sorting values\n",
      "[('f', 1), ('a', 4), ('d', 8), ('s', 9), ('g', 15)] \n",
      "\n",
      "\n",
      "Printing the items by sorting values from max to min\n",
      "[('g', 15), ('s', 9), ('d', 8), ('a', 4), ('f', 1)]\n"
     ]
    }
   ],
   "source": [
    "# Display Count of any particular element in a string \n",
    "string1 = 'aaaasssssssssddddddddfggggggggggggggg'\n",
    "#string1 = 'aaaassmswsxnbvcxssnbvcxertyusssssddddiuytrexcvbddddkjhgfdsdfghiuytreszxcvbnbvcf'\n",
    "\n",
    "dict = {}\n",
    "string1 = list(string1)\n",
    "\n",
    "for value in string1:\n",
    "    dict[value]= string1.count(value) \n",
    "    \n",
    "    \n",
    "print('Printing the items based on its appearance')    \n",
    "print(dict,'\\n\\n')\n",
    "\n",
    "print('Printing the items by sorting keys')\n",
    "#print(sorted(dict.items()),'\\n\\n')\n",
    "\n",
    "print(sorted(dict.items(), key=lambda x:x[0]),'\\n\\n')\n",
    "\n",
    "\n",
    "print('Printing the items by sorting values')\n",
    "print(sorted(dict.items(), key=lambda x:x[1]),'\\n\\n')\n",
    "\n",
    "print('Printing the items by sorting values from max to min')\n",
    "print(sorted(dict.items(), key=lambda item: item[1], reverse=True))\n",
    "\n"
   ]
  },
  {
   "cell_type": "code",
   "execution_count": null,
   "id": "a84cdf01",
   "metadata": {},
   "outputs": [],
   "source": []
  },
  {
   "cell_type": "code",
   "execution_count": 74,
   "id": "85b7b7b4",
   "metadata": {},
   "outputs": [
    {
     "name": "stdout",
     "output_type": "stream",
     "text": [
      "('i', 5)('t', 7)('s', 3)('g', 1)('o', 3)('d', 1)('h', 2)('a', 7)('w', 2)('e', 5)('v', 1)('l', 2)('k', 1)('p', 2)('m', 4)('x', 1)('u', 1)('3', 1)('n', 2)"
     ]
    }
   ],
   "source": [
    "# You are given a string \"S\". Suppose a character \"c\"' occurs consecutively \"X\"times\n",
    "# in the string. Replace these consecutive occurrences of the character ''c\" with (X,c) in \n",
    "# S should be a number\n",
    "\n",
    "# Enter a Number : 11223\n",
    "# (2, 1) (2, 2) (1, 3)\n",
    "\n",
    "\n",
    "str1 = \"It's good that we have law to keep Maximum 3 Animal As Pet, isn't it ? \"\n",
    "# str1 = \"The quick brown fox jumps over the lazy dog\"\n",
    "import re\n",
    "str1 = re.findall(r'[a-zA-Z0-9]',str1.lower())\n",
    "\n",
    "\n",
    "dict = {}\n",
    "for value in list(str1):\n",
    "    dict[value] = str1.count(value)\n",
    "    \n",
    "    \n",
    "for item in dict.items():\n",
    "    print(item,end='')"
   ]
  },
  {
   "cell_type": "code",
   "execution_count": null,
   "id": "9f10bc6e",
   "metadata": {},
   "outputs": [],
   "source": []
  },
  {
   "cell_type": "code",
   "execution_count": 79,
   "id": "0fd5c20e",
   "metadata": {},
   "outputs": [
    {
     "name": "stdout",
     "output_type": "stream",
     "text": [
      "5\n"
     ]
    }
   ],
   "source": [
    "# maximum occourance of 0's in a binary string\n",
    "string = 1110111110000100000\n",
    "\n",
    "mylist = str(string).split('1')\n",
    "print(len(max(mylist)))\n",
    "\n"
   ]
  },
  {
   "cell_type": "code",
   "execution_count": null,
   "id": "15356203",
   "metadata": {},
   "outputs": [],
   "source": []
  },
  {
   "cell_type": "code",
   "execution_count": 90,
   "id": "fda6f514",
   "metadata": {},
   "outputs": [
    {
     "name": "stdout",
     "output_type": "stream",
     "text": [
      "5\n"
     ]
    }
   ],
   "source": [
    "# maximum occourance of 0's in a string\n",
    "\n",
    "\n",
    "binary_num = 1110111110000100000\n",
    "\n",
    "binary_num = str(binary_num).split('1')\n",
    "\n",
    "binary_num.sort()\n",
    "binary_num.reverse()\n",
    "print(len(binary_num[0]))"
   ]
  },
  {
   "cell_type": "code",
   "execution_count": 183,
   "id": "837d0d24",
   "metadata": {},
   "outputs": [
    {
     "name": "stdout",
     "output_type": "stream",
     "text": [
      "Each char count is: \n",
      "{'H': 1, 'e': 5, 'l': 2, 'o': 6, 'v': 1, 'r': 2, 'y': 1, 'n': 3, 'g': 1, 'd': 1, 'a': 1, 'f': 1, 't': 1}\n",
      "Max occoured Char is:\t('o', 6)\n"
     ]
    }
   ],
   "source": [
    "# Count of maximum occouring letter and number of times it is repeated\n",
    "mystring = 'Hello everyone, good afternoon'\n",
    "\n",
    "import re\n",
    "\n",
    "mydict = {}\n",
    "mystring = re.findall(r'[a-zA-Z]',mystring)\n",
    "\n",
    "for value in mystring:\n",
    "    mydict[value] = mystring.count(value)\n",
    "\n",
    "    \n",
    "print(f'Each char count is: \\n{mydict}')\n",
    "\n",
    "sorted_dict = sorted(mydict.items(),key=lambda x:x[1],reverse=True)\n",
    "print(f'Max occoured Char is:\\t{sorted_dict[0]}')\n",
    "\n"
   ]
  },
  {
   "cell_type": "code",
   "execution_count": null,
   "id": "b889173c",
   "metadata": {},
   "outputs": [],
   "source": []
  },
  {
   "cell_type": "code",
   "execution_count": 83,
   "id": "11dd94c1",
   "metadata": {},
   "outputs": [
    {
     "name": "stdout",
     "output_type": "stream",
     "text": [
      "Enter a number: 5\n",
      "12345"
     ]
    }
   ],
   "source": [
    "#Print the list of integers as a string, without spaces.\n",
    "\n",
    "num = int(input('Enter a number: '))\n",
    "\n",
    "for i in range(1,num+1):\n",
    "    print(str(i),end='')"
   ]
  },
  {
   "cell_type": "code",
   "execution_count": null,
   "id": "0e2ee496",
   "metadata": {},
   "outputs": [],
   "source": []
  },
  {
   "cell_type": "code",
   "execution_count": 193,
   "id": "361efe29",
   "metadata": {},
   "outputs": [
    {
     "name": "stdout",
     "output_type": "stream",
     "text": [
      "[5, 4, 3, 2, 1]\n",
      "[9, 8, 7, 6, 5]\n"
     ]
    }
   ],
   "source": [
    "# Reversing a list\n",
    "mylist1 = [1,2,3,4,5]\n",
    "\n",
    "mylist1.reverse()\n",
    "print(mylist1)\n",
    "\n",
    "\n",
    "mylist2 = [5,6,7,8,9]\n",
    "print(mylist2[::-1])\n"
   ]
  },
  {
   "cell_type": "code",
   "execution_count": null,
   "id": "ab26dc5b",
   "metadata": {},
   "outputs": [],
   "source": []
  },
  {
   "cell_type": "code",
   "execution_count": 84,
   "id": "78a438b2",
   "metadata": {},
   "outputs": [],
   "source": [
    "#finding the leap year\n",
    "\n",
    "# logic:\n",
    "# It's evenly divisible by 4, but not evenly divisible by 100.\n",
    "# It's evenly divisible by 400.\n",
    "\n",
    "def leap_year_check():\n",
    "        \n",
    "    while True:\n",
    "        input_year = input('Enter year to check its leap year or not [eg:1987]: ')\n",
    "        \n",
    "        if input_year.isdigit():\n",
    "            input_year = int(input_year)\n",
    "            if input_year % 4 == 0 and input_year % 100 != 0 or input_year % 400 == 0:\n",
    "                return str(input_year) + \" -> Leap Year\"\n",
    "            else:\n",
    "                return str(input_year) + \" NOT A Leap Year\"\n",
    "        else:\n",
    "            print('Not a valid input\\n')"
   ]
  },
  {
   "cell_type": "code",
   "execution_count": 85,
   "id": "e46558c3",
   "metadata": {},
   "outputs": [
    {
     "name": "stdout",
     "output_type": "stream",
     "text": [
      "Enter year to check its leap year or not [eg:1987]: 2022\n"
     ]
    },
    {
     "data": {
      "text/plain": [
       "'2022 NOT A Leap Year'"
      ]
     },
     "execution_count": 85,
     "metadata": {},
     "output_type": "execute_result"
    }
   ],
   "source": [
    "leap_year_check()"
   ]
  },
  {
   "cell_type": "code",
   "execution_count": null,
   "id": "549a4967",
   "metadata": {},
   "outputs": [],
   "source": []
  },
  {
   "cell_type": "code",
   "execution_count": null,
   "id": "1fa69582",
   "metadata": {},
   "outputs": [],
   "source": [
    "# Creating star pyramid\n",
    "\n",
    "#        * \n",
    "#      * * * \n",
    "#    * * * * * \n",
    "#  * * * * * * * \n",
    "# * * * * * * * * * \n"
   ]
  },
  {
   "cell_type": "code",
   "execution_count": null,
   "id": "7a65439b",
   "metadata": {},
   "outputs": [],
   "source": []
  },
  {
   "cell_type": "code",
   "execution_count": 88,
   "id": "a3cedad0",
   "metadata": {},
   "outputs": [
    {
     "name": "stdout",
     "output_type": "stream",
     "text": [
      "[('o', 4), ('e', 2), ('u', 2), ('r', 2), ('t', 1), ('h', 1), ('q', 1), ('i', 1), ('c', 1), ('k', 1), ('b', 1), ('w', 1), ('n', 1), ('f', 1), ('x', 1), ('j', 1), ('m', 1), ('p', 1), ('s', 1), ('v', 1), ('l', 1), ('a', 1), ('z', 1), ('y', 1), ('d', 1), ('g', 1)] \n",
      "\n",
      " 26\n"
     ]
    }
   ],
   "source": [
    "import re\n",
    "str1 = \"The Quick Brown Fox, Jumps Over Lazy Dog..!!!\"\n",
    "dict = {}\n",
    "\n",
    "str1 = re.findall(r'[a-zA-Z]',str1.lower())\n",
    "\n",
    "for value in list(str1):\n",
    "    dict[value] = str1.count(value)\n",
    "    \n",
    "\n",
    "sorted_dict = sorted(dict.items(),key=lambda x:x[1],reverse = True)\n",
    "print(sorted_dict,'\\n\\n',len(dict.keys()))"
   ]
  },
  {
   "cell_type": "code",
   "execution_count": null,
   "id": "85aa1e77",
   "metadata": {},
   "outputs": [],
   "source": []
  },
  {
   "cell_type": "code",
   "execution_count": 51,
   "id": "e62742bf",
   "metadata": {},
   "outputs": [
    {
     "name": "stdout",
     "output_type": "stream",
     "text": [
      "{'a': 4, 's': 9, 'd': 8, 'f': 1}\n",
      "f\n"
     ]
    }
   ],
   "source": [
    "#Print Character occorance and Least repeating character in string\n",
    "\n",
    "str1 = 'aaaasssssssssddddddddf'\n",
    "\n",
    "dict = {}\n",
    "\n",
    "for value in list(str1):\n",
    "    dict[value] = str1.count(value)\n",
    "    \n",
    "print(dict)\n",
    "\n",
    "least_count = sorted(dict.items(),key=lambda x:x[1])[0]\n",
    "print(least_count[0])"
   ]
  },
  {
   "cell_type": "code",
   "execution_count": null,
   "id": "d6af9c56",
   "metadata": {},
   "outputs": [],
   "source": []
  },
  {
   "cell_type": "code",
   "execution_count": 11,
   "id": "d46f4afc",
   "metadata": {},
   "outputs": [],
   "source": [
    "# check if given digit is prime number or not\n",
    "\n",
    "def prime_checker(num1):\n",
    "    if num1 > 1:\n",
    "        for value in list(range(2,int(num1/2)+1)):\n",
    "            if num1 % value == 0:\n",
    "                return False\n",
    "        else:\n",
    "            return True\n",
    "        \n",
    "def primeN_check(num1):\n",
    "    if prime_checker(num1):\n",
    "        print(f'{num1} is a Prime Number')\n",
    "    else:\n",
    "        print(f'{num1} is Not a Prime Number')\n",
    "        \n",
    "        "
   ]
  },
  {
   "cell_type": "code",
   "execution_count": 13,
   "id": "8876897d",
   "metadata": {},
   "outputs": [
    {
     "name": "stdout",
     "output_type": "stream",
     "text": [
      "101 is a Prime Number\n"
     ]
    }
   ],
   "source": [
    "primeN_check(101)"
   ]
  },
  {
   "cell_type": "code",
   "execution_count": 14,
   "id": "bc1e04ef",
   "metadata": {},
   "outputs": [],
   "source": [
    "# check if given digit is prime number or not\n",
    "\n",
    "def prime_checker(num1):\n",
    "    if num1 > 1:\n",
    "        for value in list(range(2,int(num1/2)+1)):\n",
    "            if num1 % value == 0:\n",
    "                return False\n",
    "        else:\n",
    "            return True\n",
    "    else:\n",
    "        return False\n",
    "        \n",
    "def primeN_check():\n",
    "    \n",
    "    while True:\n",
    "        num1 = input('Pls enter a number: ')\n",
    "        \n",
    "        if num1.isdigit() == True:\n",
    "            num1= int(num1)\n",
    "            if prime_checker(num1):\n",
    "                print(f'{num1} is a Prime Number')\n",
    "            else:\n",
    "                print(f'{num1} is Not a Prime Number')\n",
    "        else:\n",
    "            print('Invalid input \\n')\n",
    "        break\n",
    "        "
   ]
  },
  {
   "cell_type": "code",
   "execution_count": 18,
   "id": "320bd637",
   "metadata": {},
   "outputs": [
    {
     "name": "stdout",
     "output_type": "stream",
     "text": [
      "Pls enter a number: 101\n",
      "101 is a Prime Number\n"
     ]
    }
   ],
   "source": [
    "primeN_check()"
   ]
  },
  {
   "cell_type": "code",
   "execution_count": null,
   "id": "7809def2",
   "metadata": {},
   "outputs": [],
   "source": []
  },
  {
   "cell_type": "code",
   "execution_count": null,
   "id": "42ea05c6",
   "metadata": {},
   "outputs": [],
   "source": []
  },
  {
   "cell_type": "code",
   "execution_count": null,
   "id": "6014d747",
   "metadata": {},
   "outputs": [],
   "source": []
  },
  {
   "cell_type": "code",
   "execution_count": null,
   "id": "d6d79e79",
   "metadata": {},
   "outputs": [],
   "source": []
  },
  {
   "cell_type": "code",
   "execution_count": null,
   "id": "eb795415",
   "metadata": {},
   "outputs": [],
   "source": []
  },
  {
   "cell_type": "code",
   "execution_count": null,
   "id": "a60e58fe",
   "metadata": {},
   "outputs": [],
   "source": []
  }
 ],
 "metadata": {
  "kernelspec": {
   "display_name": "Python 3 (ipykernel)",
   "language": "python",
   "name": "python3"
  },
  "language_info": {
   "codemirror_mode": {
    "name": "ipython",
    "version": 3
   },
   "file_extension": ".py",
   "mimetype": "text/x-python",
   "name": "python",
   "nbconvert_exporter": "python",
   "pygments_lexer": "ipython3",
   "version": "3.10.9"
  }
 },
 "nbformat": 4,
 "nbformat_minor": 5
}
