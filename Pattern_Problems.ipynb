{
 "cells": [
  {
   "cell_type": "code",
   "execution_count": 402,
   "id": "95c963f2",
   "metadata": {},
   "outputs": [],
   "source": [
    "# Pattern: Right Triangle\n",
    "# Pattern: Inverted Right Triangle\n",
    "# Pattern: Pyramid\n",
    "                                        # Pattern: Hollow Pyramid\n",
    "# Pattern: Diamond\n",
    "# Pattern: Numeric Right Triangle\n",
    "                                        # Pattern: Floyd's Triangle\n",
    "                                        # Pattern: Pascal's Triangle\n",
    "# Pattern: Half Pyramid of Numbers\n",
    "# Pattern: Half Pyramid of Numbers\n",
    "                                        # Pattern: Hollow Diamond\n",
    "# Pattern: Sandglass Pattern\n",
    "# Pattern: Hourglass Pattern\n",
    "# Pattern: Butterfly Pattern\n",
    "                                        # Pattern: Hollow Butterfly Pattern\n",
    "# Pattern: Number Pyramid\n",
    "                                        # Pattern: Hollow Number Pyramid\n",
    "                                        # Pattern: Palindromic Pattern\n",
    "# Pattern: Zigzag Pattern\n",
    "                                        # Pattern: Character Pattern\n",
    "\n"
   ]
  },
  {
   "cell_type": "code",
   "execution_count": 403,
   "id": "03713c51",
   "metadata": {},
   "outputs": [],
   "source": [
    "# right angle triangle using stars\n",
    "\n",
    "# *\n",
    "# **\n",
    "# ***\n",
    "# ****\n",
    "# *****"
   ]
  },
  {
   "cell_type": "code",
   "execution_count": 404,
   "id": "3676eb71",
   "metadata": {},
   "outputs": [
    {
     "name": "stdout",
     "output_type": "stream",
     "text": [
      "*\n",
      "**\n",
      "***\n",
      "****\n",
      "*****\n"
     ]
    }
   ],
   "source": [
    "row = 5\n",
    "\n",
    "for value_row in range(1,row+1):\n",
    "    print('*' * value_row)"
   ]
  },
  {
   "cell_type": "code",
   "execution_count": 405,
   "id": "47fcb928",
   "metadata": {},
   "outputs": [],
   "source": [
    "# * \n",
    "# * * \n",
    "# * * * \n",
    "# * * * * \n",
    "# * * * * * "
   ]
  },
  {
   "cell_type": "code",
   "execution_count": 406,
   "id": "7b4ee23b",
   "metadata": {},
   "outputs": [
    {
     "name": "stdout",
     "output_type": "stream",
     "text": [
      "* \n",
      "* * \n",
      "* * * \n",
      "* * * * \n",
      "* * * * * \n"
     ]
    }
   ],
   "source": [
    "row = 5\n",
    "\n",
    "for value_row in range(1,row+1):\n",
    "        print('* '*value_row)"
   ]
  },
  {
   "cell_type": "code",
   "execution_count": 407,
   "id": "2fb66361",
   "metadata": {},
   "outputs": [],
   "source": [
    "# * \n",
    "# * * \n",
    "# * * * \n",
    "# * * * * \n",
    "# * * * * * "
   ]
  },
  {
   "cell_type": "code",
   "execution_count": 408,
   "id": "019516d5",
   "metadata": {},
   "outputs": [
    {
     "name": "stdout",
     "output_type": "stream",
     "text": [
      "* \n",
      "* * \n",
      "* * * \n",
      "* * * * \n",
      "* * * * * \n"
     ]
    }
   ],
   "source": [
    "row = 5\n",
    "\n",
    "for value_row in range(1,row+1):\n",
    "    for value_count in range(1,value_row+1):\n",
    "        print('*',end=' ')\n",
    "    print()"
   ]
  },
  {
   "cell_type": "code",
   "execution_count": 409,
   "id": "527ce8c1",
   "metadata": {},
   "outputs": [],
   "source": [
    "#     *\n",
    "#    **\n",
    "#   ***\n",
    "#  ****\n",
    "# *****"
   ]
  },
  {
   "cell_type": "code",
   "execution_count": 410,
   "id": "c2dd995c",
   "metadata": {},
   "outputs": [
    {
     "name": "stdout",
     "output_type": "stream",
     "text": [
      "    *\n",
      "   **\n",
      "  ***\n",
      " ****\n",
      "*****\n"
     ]
    }
   ],
   "source": [
    "row = 5\n",
    "for value_row in range(1,row+1):\n",
    "    print(' '*(row-value_row)+'*'*value_row)"
   ]
  },
  {
   "cell_type": "code",
   "execution_count": 411,
   "id": "69b01dda",
   "metadata": {},
   "outputs": [],
   "source": [
    "# *****\n",
    "#  ****\n",
    "#   ***\n",
    "#    **\n",
    "#     *"
   ]
  },
  {
   "cell_type": "code",
   "execution_count": 412,
   "id": "b52043fa",
   "metadata": {
    "scrolled": true
   },
   "outputs": [
    {
     "name": "stdout",
     "output_type": "stream",
     "text": [
      "*****\n",
      " ****\n",
      "  ***\n",
      "   **\n",
      "    *\n"
     ]
    }
   ],
   "source": [
    "row = 5\n",
    "for value_row in range(1,row+1)[::-1]:\n",
    "    print(' '*(row-value_row)+'*'*value_row)"
   ]
  },
  {
   "cell_type": "code",
   "execution_count": 413,
   "id": "ef8bd598",
   "metadata": {},
   "outputs": [
    {
     "name": "stdout",
     "output_type": "stream",
     "text": [
      "    * \n",
      "   * * \n",
      "  * * * \n",
      " * * * * \n",
      "* * * * * \n"
     ]
    }
   ],
   "source": [
    "row = 5\n",
    "\n",
    "for value_row in range(1,row+1):\n",
    "    print(' ' * (row-value_row) + '* ' * value_row)"
   ]
  },
  {
   "cell_type": "code",
   "execution_count": 414,
   "id": "9e10abec",
   "metadata": {},
   "outputs": [],
   "source": [
    "#        * \n",
    "#      * * * \n",
    "#    * * * * * \n",
    "#  * * * * * * * \n",
    "# * * * * * * * * *"
   ]
  },
  {
   "cell_type": "code",
   "execution_count": 415,
   "id": "f837695d",
   "metadata": {},
   "outputs": [
    {
     "name": "stdout",
     "output_type": "stream",
     "text": [
      "         *\n",
      "       * * *\n",
      "     * * * * *\n",
      "   * * * * * * *\n",
      " * * * * * * * * *\n"
     ]
    }
   ],
   "source": [
    "row = 5\n",
    "for value_row in range(1,row+1):\n",
    "    print('  ' * (row-value_row) + ' *' * (value_row*2-1))"
   ]
  },
  {
   "cell_type": "code",
   "execution_count": 416,
   "id": "dc75bf22",
   "metadata": {},
   "outputs": [
    {
     "name": "stdout",
     "output_type": "stream",
     "text": [
      "        * \n",
      "      * * * \n",
      "    * * * * * \n",
      "  * * * * * * * \n",
      "* * * * * * * * * \n"
     ]
    }
   ],
   "source": [
    "row = 5\n",
    "\n",
    "for value_row in range(1,row+1):\n",
    "    print('  ' * (row-value_row) + '* ' * (value_row * 2-1))\n",
    "    "
   ]
  },
  {
   "cell_type": "code",
   "execution_count": 417,
   "id": "e190ab43",
   "metadata": {},
   "outputs": [],
   "source": [
    "# 1 \n",
    "# 1 2 \n",
    "# 1 2 3 \n",
    "# 1 2 3 4 \n",
    "# 1 2 3 4 5"
   ]
  },
  {
   "cell_type": "code",
   "execution_count": 418,
   "id": "b0bd5c6e",
   "metadata": {},
   "outputs": [
    {
     "name": "stdout",
     "output_type": "stream",
     "text": [
      "1 \n",
      "1 2 \n",
      "1 2 3 \n",
      "1 2 3 4 \n",
      "1 2 3 4 5 \n"
     ]
    }
   ],
   "source": [
    "row = 5\n",
    "\n",
    "for value_row in range(1,row+1):\n",
    "    for value_count in range(1,value_row+1):\n",
    "        print(value_count,end=' ')\n",
    "    print()"
   ]
  },
  {
   "cell_type": "code",
   "execution_count": 419,
   "id": "56792843",
   "metadata": {},
   "outputs": [],
   "source": [
    "# 1 \n",
    "# 2 2 \n",
    "# 3 3 3 \n",
    "# 4 4 4 4 \n",
    "# 5 5 5 5 5"
   ]
  },
  {
   "cell_type": "code",
   "execution_count": 420,
   "id": "20c5da23",
   "metadata": {},
   "outputs": [
    {
     "name": "stdout",
     "output_type": "stream",
     "text": [
      "1 \n",
      "2 2 \n",
      "3 3 3 \n",
      "4 4 4 4 \n",
      "5 5 5 5 5 \n"
     ]
    }
   ],
   "source": [
    "row = 5\n",
    "\n",
    "for value_row in range(1,row+1):\n",
    "    for value_count in range(1,value_row+1):\n",
    "        print(value_row,end=' ')\n",
    "    print()"
   ]
  },
  {
   "cell_type": "code",
   "execution_count": 421,
   "id": "51cc2be3",
   "metadata": {},
   "outputs": [],
   "source": [
    "# 1 2 3 4 5 \n",
    "# 1 2 3 4 \n",
    "# 1 2 3 \n",
    "# 1 2 \n",
    "# 1 "
   ]
  },
  {
   "cell_type": "code",
   "execution_count": 422,
   "id": "8563f3a0",
   "metadata": {},
   "outputs": [
    {
     "name": "stdout",
     "output_type": "stream",
     "text": [
      "1 2 3 4 5 \n",
      "1 2 3 4 \n",
      "1 2 3 \n",
      "1 2 \n",
      "1 \n"
     ]
    }
   ],
   "source": [
    "row = 5\n",
    "\n",
    "for value_row in range(1,row+1)[::-1]:\n",
    "    for value_count in range(1,value_row+1):\n",
    "        print(value_count,end=' ')\n",
    "    print()"
   ]
  },
  {
   "cell_type": "code",
   "execution_count": 423,
   "id": "c71c5c35",
   "metadata": {},
   "outputs": [],
   "source": [
    "# 5 5 5 5 5\n",
    "# 4 4 4 4\n",
    "# 3 3 3 \n",
    "# 2 2\n",
    "# 1"
   ]
  },
  {
   "cell_type": "code",
   "execution_count": 424,
   "id": "19e2fca8",
   "metadata": {},
   "outputs": [
    {
     "name": "stdout",
     "output_type": "stream",
     "text": [
      "5 5 5 5 5 \n",
      "4 4 4 4 \n",
      "3 3 3 \n",
      "2 2 \n",
      "1 \n"
     ]
    }
   ],
   "source": [
    "row = 5\n",
    "\n",
    "for value_row in range(1,row+1)[::-1]:\n",
    "    for value_count in range(1,value_row+1):\n",
    "        print(value_row,end=' ')\n",
    "    print()"
   ]
  },
  {
   "cell_type": "code",
   "execution_count": 425,
   "id": "7974b8ac",
   "metadata": {},
   "outputs": [],
   "source": [
    "# A\n",
    "# A B\n",
    "# A B C\n",
    "# A B C D\n",
    "# A B C D E"
   ]
  },
  {
   "cell_type": "code",
   "execution_count": 426,
   "id": "271a8005",
   "metadata": {},
   "outputs": [
    {
     "name": "stdout",
     "output_type": "stream",
     "text": [
      "A \n",
      "A B \n",
      "A B C \n",
      "A B C D \n",
      "A B C D E \n"
     ]
    }
   ],
   "source": [
    "row = 5\n",
    "\n",
    "for value_row in range(1,row+1):\n",
    "    for value_count in range(1,value_row+1):\n",
    "        print(chr(65+value_count-1),end=' ')\n",
    "    print()"
   ]
  },
  {
   "cell_type": "code",
   "execution_count": 427,
   "id": "6d092fab",
   "metadata": {},
   "outputs": [],
   "source": [
    "# A\n",
    "# B B\n",
    "# C C C\n",
    "# D D D D\n",
    "# E E E E E"
   ]
  },
  {
   "cell_type": "code",
   "execution_count": 428,
   "id": "98189fe2",
   "metadata": {},
   "outputs": [
    {
     "name": "stdout",
     "output_type": "stream",
     "text": [
      "A \n",
      "B B \n",
      "C C C \n",
      "D D D D \n",
      "E E E E E \n"
     ]
    }
   ],
   "source": [
    "row = 5\n",
    "\n",
    "for value_row in range(1,row+1):\n",
    "    for value_count in range(1,value_row+1):\n",
    "        print(chr(65+value_row-1),end=' ')\n",
    "    print()\n",
    "    "
   ]
  },
  {
   "cell_type": "code",
   "execution_count": 429,
   "id": "b4e815bc",
   "metadata": {},
   "outputs": [],
   "source": [
    "# E E E E E \n",
    "# D D D D \n",
    "# C C C \n",
    "# B B \n",
    "# A"
   ]
  },
  {
   "cell_type": "code",
   "execution_count": 430,
   "id": "c2f0861e",
   "metadata": {},
   "outputs": [
    {
     "name": "stdout",
     "output_type": "stream",
     "text": [
      "E E E E E \n",
      "D D D D \n",
      "C C C \n",
      "B B \n",
      "A \n"
     ]
    }
   ],
   "source": [
    "row = 5\n",
    "\n",
    "for value_row in range(1,row+1)[::-1]:\n",
    "    for value_count in range(1,value_row+1):\n",
    "        print(chr(65+value_row-1),end=' ')\n",
    "    print()"
   ]
  },
  {
   "cell_type": "code",
   "execution_count": 431,
   "id": "dffb05b4",
   "metadata": {},
   "outputs": [],
   "source": [
    "#     *\n",
    "#    ***\n",
    "#   *****\n",
    "#  *******\n",
    "# *********\n",
    "#  *******\n",
    "#   *****\n",
    "#    ***\n",
    "#     *\n"
   ]
  },
  {
   "cell_type": "code",
   "execution_count": 432,
   "id": "e2d5cf66",
   "metadata": {},
   "outputs": [
    {
     "name": "stdout",
     "output_type": "stream",
     "text": [
      "    *\n",
      "   ***\n",
      "  *****\n",
      " *******\n",
      "*********\n",
      " *******\n",
      "  *****\n",
      "   ***\n",
      "    *\n"
     ]
    }
   ],
   "source": [
    "row = 5\n",
    "for value_row in range(1,row+1):\n",
    "    print(' ' * (row-value_row) + '*' * (value_row*2-1))\n",
    "for value_row in range(row -1,0,-1):\n",
    "    print(' ' * (row-value_row) + '*' * (value_row*2-1))"
   ]
  },
  {
   "cell_type": "code",
   "execution_count": 433,
   "id": "306b8f59",
   "metadata": {},
   "outputs": [
    {
     "name": "stdout",
     "output_type": "stream",
     "text": [
      "*\n",
      "**\n",
      "***\n",
      "****\n",
      "*****\n",
      "*****\n",
      "****\n",
      "***\n",
      "**\n",
      "*\n"
     ]
    }
   ],
   "source": [
    "row = 5\n",
    "for value_row in range(1,row+1):\n",
    "    for value_count in range(1,value_row+1):\n",
    "        print('*',end='')\n",
    "    print()\n",
    "for value_row in range(1,row+1)[::-1]:\n",
    "    for value_count in range(1,value_row+1):\n",
    "        print('*',end='')\n",
    "    print()"
   ]
  },
  {
   "cell_type": "code",
   "execution_count": 434,
   "id": "706f1d19",
   "metadata": {},
   "outputs": [],
   "source": [
    "# *        *\n",
    "# **      **\n",
    "# ***    ***\n",
    "# ****  ****\n",
    "# **********\n",
    "# ****  ****\n",
    "# ***    ***\n",
    "# **      **\n",
    "# *        *"
   ]
  },
  {
   "cell_type": "code",
   "execution_count": 435,
   "id": "4936bdca",
   "metadata": {},
   "outputs": [
    {
     "name": "stdout",
     "output_type": "stream",
     "text": [
      "*        *\n",
      "**      **\n",
      "***    ***\n",
      "****  ****\n",
      "**********\n",
      "****  ****\n",
      "***    ***\n",
      "**      **\n",
      "*        *\n"
     ]
    }
   ],
   "source": [
    "row = 5 \n",
    "\n",
    "for value_row in range(1,row+1):\n",
    "    print('*'*value_row + '  '*(row-value_row) + '*'*value_row)\n",
    "for value_row in range(row -1,0,-1):\n",
    "    print('*'*value_row + '  '*(row-value_row) + '*'*value_row)"
   ]
  },
  {
   "cell_type": "code",
   "execution_count": 436,
   "id": "22c741e1",
   "metadata": {},
   "outputs": [],
   "source": [
    "# *********\n",
    "#  *******\n",
    "#   *****\n",
    "#    ***\n",
    "#     *\n",
    "#    ***\n",
    "#   *****\n",
    "#  *******\n",
    "# *********"
   ]
  },
  {
   "cell_type": "code",
   "execution_count": 437,
   "id": "e7dcd39a",
   "metadata": {},
   "outputs": [
    {
     "name": "stdout",
     "output_type": "stream",
     "text": [
      "*********\n",
      " *******\n",
      "  *****\n",
      "   ***\n",
      "    *\n",
      "    *\n",
      "   ***\n",
      "  *****\n",
      " *******\n",
      "*********\n"
     ]
    }
   ],
   "source": [
    "row = 5 \n",
    "for value_row in range(1,row+1)[::-1]:\n",
    "    print(' '*(row-value_row) + '*' * (value_row*2-1))\n",
    "for value_row in range(1,row+1):\n",
    "    print(' '*(row-value_row) + '*' * (value_row*2-1))  \n"
   ]
  },
  {
   "cell_type": "code",
   "execution_count": null,
   "id": "cef1b897",
   "metadata": {},
   "outputs": [],
   "source": []
  },
  {
   "cell_type": "code",
   "execution_count": null,
   "id": "59f9dded",
   "metadata": {},
   "outputs": [],
   "source": []
  },
  {
   "cell_type": "code",
   "execution_count": null,
   "id": "56dfa181",
   "metadata": {},
   "outputs": [],
   "source": []
  },
  {
   "cell_type": "code",
   "execution_count": null,
   "id": "2c8a4fb6",
   "metadata": {},
   "outputs": [],
   "source": []
  },
  {
   "cell_type": "code",
   "execution_count": null,
   "id": "69d86780",
   "metadata": {},
   "outputs": [],
   "source": []
  },
  {
   "cell_type": "code",
   "execution_count": null,
   "id": "1f2b5064",
   "metadata": {},
   "outputs": [],
   "source": []
  },
  {
   "cell_type": "code",
   "execution_count": null,
   "id": "366a7a68",
   "metadata": {},
   "outputs": [],
   "source": []
  },
  {
   "cell_type": "code",
   "execution_count": null,
   "id": "cec899a6",
   "metadata": {},
   "outputs": [],
   "source": []
  },
  {
   "cell_type": "code",
   "execution_count": null,
   "id": "a66e8562",
   "metadata": {},
   "outputs": [],
   "source": []
  },
  {
   "cell_type": "code",
   "execution_count": null,
   "id": "111fed6f",
   "metadata": {},
   "outputs": [],
   "source": []
  },
  {
   "cell_type": "code",
   "execution_count": null,
   "id": "446dce66",
   "metadata": {},
   "outputs": [],
   "source": []
  },
  {
   "cell_type": "code",
   "execution_count": null,
   "id": "7790b51f",
   "metadata": {},
   "outputs": [],
   "source": []
  },
  {
   "cell_type": "code",
   "execution_count": null,
   "id": "1a16a2f7",
   "metadata": {},
   "outputs": [],
   "source": []
  },
  {
   "cell_type": "code",
   "execution_count": null,
   "id": "b4ff2ad7",
   "metadata": {},
   "outputs": [],
   "source": []
  },
  {
   "cell_type": "code",
   "execution_count": null,
   "id": "a384279d",
   "metadata": {},
   "outputs": [],
   "source": []
  },
  {
   "cell_type": "code",
   "execution_count": null,
   "id": "1fdcfd48",
   "metadata": {},
   "outputs": [],
   "source": []
  },
  {
   "cell_type": "code",
   "execution_count": null,
   "id": "0f053883",
   "metadata": {},
   "outputs": [],
   "source": []
  },
  {
   "cell_type": "code",
   "execution_count": null,
   "id": "f10c511f",
   "metadata": {},
   "outputs": [],
   "source": []
  },
  {
   "cell_type": "code",
   "execution_count": null,
   "id": "8f47db91",
   "metadata": {},
   "outputs": [],
   "source": []
  },
  {
   "cell_type": "code",
   "execution_count": null,
   "id": "0c19a185",
   "metadata": {},
   "outputs": [],
   "source": []
  }
 ],
 "metadata": {
  "kernelspec": {
   "display_name": "Python 3 (ipykernel)",
   "language": "python",
   "name": "python3"
  },
  "language_info": {
   "codemirror_mode": {
    "name": "ipython",
    "version": 3
   },
   "file_extension": ".py",
   "mimetype": "text/x-python",
   "name": "python",
   "nbconvert_exporter": "python",
   "pygments_lexer": "ipython3",
   "version": "3.10.9"
  }
 },
 "nbformat": 4,
 "nbformat_minor": 5
}
