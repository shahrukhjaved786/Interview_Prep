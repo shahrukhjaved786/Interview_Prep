{
 "cells": [
  {
   "cell_type": "code",
   "execution_count": null,
   "id": "2a33072c",
   "metadata": {},
   "outputs": [],
   "source": [
    "#This is the simple interactive program that lets the user manipulate a list.\n",
    "#It displays the list, asks the user to choose a position in the list, replaces the value at that position with a user-provided string, and then asks the user if they want to continue playing or quit. "
   ]
  },
  {
   "cell_type": "code",
   "execution_count": 2,
   "id": "67e406ee",
   "metadata": {},
   "outputs": [
    {
     "name": "stdout",
     "output_type": "stream",
     "text": [
      "Current List Is: [0, 1, 2]\n",
      "\n",
      "Choose any position in the list (0,1,2): 1\n",
      "Enter the string you want to place in list: !@#$%\n",
      "Current List Is: [0, '!@#$%', 2]\n",
      "\n",
      "Keep Playing or Quit: (\"Y\" or \"N\") Y\n",
      "\n",
      "Great,Enjoy playing\n",
      "\n",
      "Current List Is: [0, '!@#$%', 2]\n",
      "\n",
      "Choose any position in the list (0,1,2): 1\n",
      "Enter the string you want to place in list: poiuyt\n",
      "Current List Is: [0, 'poiuyt', 2]\n",
      "\n",
      "Keep Playing or Quit: (\"Y\" or \"N\") N\n",
      "\n",
      "\tBye..see you soon\n"
     ]
    }
   ],
   "source": [
    "#display the list\n",
    "\n",
    "mylist = [0,1,2]\n",
    "\n",
    "def display_list(list_input):\n",
    "    print(f'Current List Is: {list_input}\\n')\n",
    "\n",
    "    \n",
    "#ask the user to enter choose position from the list\n",
    "\n",
    "def user_choice():\n",
    "    position = 'false_value'\n",
    "    acceptable_input = ['0','1','2']\n",
    "    \n",
    "    while position not in acceptable_input:\n",
    "        position = input('Choose any position in the list (0,1,2): ')\n",
    "        \n",
    "        if position in acceptable_input:\n",
    "            return int(position)\n",
    "        else:\n",
    "            print('Invalid input, try again!')\n",
    "    \n",
    "#ask the user to enter the string which they want to place in the list at that position\n",
    "\n",
    "def string_replacement(list_input,position):\n",
    "    string_input = input('Enter the string you want to place in list: ')\n",
    "    \n",
    "    list_input[position] = string_input\n",
    "    display_list(list_input)\n",
    "\n",
    "\n",
    "#want to continue playing or quit\n",
    "\n",
    "def continue_playing():\n",
    "    keep_playing = 'false_value'\n",
    "    acceptable_response = ['Y','N']\n",
    "    \n",
    "    while keep_playing not in acceptable_response:\n",
    "        keep_playing = input('Keep Playing or Quit: (\"Y\" or \"N\") ')\n",
    "        \n",
    "        if keep_playing in acceptable_response:\n",
    "            \n",
    "            if keep_playing == 'Y':\n",
    "                print(\"\\n\\tGreat,Enjoy playing\\n\")\n",
    "                return True\n",
    "            \n",
    "            elif keep_playing == 'N':\n",
    "                print(\"\\n\\tBye..see you soon\")\n",
    "                return False\n",
    "        else:\n",
    "            print('Invalid Input, choose either \"Y\" or \"N\"')\n",
    "\n",
    "            \n",
    "            \n",
    "            \n",
    "#finally function interaction for accomplish the task\n",
    "\n",
    "start_game = True\n",
    "initial_list = [0,1,2]\n",
    "\n",
    "while start_game:\n",
    "    display_list(list_input=initial_list)\n",
    "    picked_position = user_choice()\n",
    "    string_replacement(list_input=initial_list,position=picked_position)\n",
    "    start_game = continue_playing()\n",
    "    "
   ]
  },
  {
   "cell_type": "code",
   "execution_count": null,
   "id": "1174ab0b",
   "metadata": {},
   "outputs": [],
   "source": []
  },
  {
   "cell_type": "code",
   "execution_count": null,
   "id": "fd1c8db8",
   "metadata": {},
   "outputs": [],
   "source": []
  }
 ],
 "metadata": {
  "kernelspec": {
   "display_name": "Python 3 (ipykernel)",
   "language": "python",
   "name": "python3"
  },
  "language_info": {
   "codemirror_mode": {
    "name": "ipython",
    "version": 3
   },
   "file_extension": ".py",
   "mimetype": "text/x-python",
   "name": "python",
   "nbconvert_exporter": "python",
   "pygments_lexer": "ipython3",
   "version": "3.10.9"
  }
 },
 "nbformat": 4,
 "nbformat_minor": 5
}
